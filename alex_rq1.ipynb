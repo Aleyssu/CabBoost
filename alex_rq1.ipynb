{
 "cells": [
  {
   "cell_type": "code",
   "execution_count": 1,
   "metadata": {},
   "outputs": [],
   "source": [
    "from sklearn.model_selection import train_test_split\n",
    "from sklearn.preprocessing import OneHotEncoder, StandardScaler\n",
    "from sklearn.linear_model import LogisticRegressionCV\n",
    "from sklearn.ensemble import RandomForestClassifier\n",
    "from sklearn.neighbors import KNeighborsClassifier\n",
    "from sklearn.compose import ColumnTransformer\n",
    "from sklearn.pipeline import Pipeline\n",
    "from sklearn.impute import SimpleImputer\n",
    "from sklearn.metrics import confusion_matrix\n",
    "import pandas as pd\n",
    "from pathlib import Path\n",
    "import matplotlib.pyplot as plt\n",
    "import seaborn as sns\n",
    "import numpy as np\n",
    "import pickle\n",
    "\n",
    "data_folder = 'data'"
   ]
  },
  {
   "attachments": {},
   "cell_type": "markdown",
   "metadata": {},
   "source": [
    "Load data from parquet file"
   ]
  },
  {
   "cell_type": "code",
   "execution_count": 2,
   "metadata": {},
   "outputs": [],
   "source": [
    "df = pd.read_parquet(\"tripdata_combined.parquet\")"
   ]
  },
  {
   "attachments": {},
   "cell_type": "markdown",
   "metadata": {},
   "source": [
    "Preprocessing"
   ]
  },
  {
   "cell_type": "code",
   "execution_count": 3,
   "metadata": {},
   "outputs": [],
   "source": [
    "# Keep relevant columns for regression\n",
    "df = df[[\"trip_distance\", \"PULocationID\", \"passenger_count\", \"payment_type\", \"tip_amount\", \"time_of_day\", \"day_of_week\", \"season\"]]\n",
    "\n",
    "# Convert tip amount to whether or not customers tipped - consider tips lower than 25 cents as no tip\n",
    "y =  (df['tip_amount'] > 0.25).astype(int).values"
   ]
  },
  {
   "attachments": {},
   "cell_type": "markdown",
   "metadata": {},
   "source": [
    "Setup model pipeline"
   ]
  },
  {
   "cell_type": "code",
   "execution_count": 7,
   "metadata": {},
   "outputs": [],
   "source": [
    "cat_transformer = Pipeline([\n",
    "    ('imputer', SimpleImputer(strategy='most_frequent')),\n",
    "    ('encoder', OneHotEncoder())\n",
    "])\n",
    "\n",
    "num_transformer = Pipeline([\n",
    "    ('imputer', SimpleImputer(strategy='mean')),\n",
    "    ('scaler', StandardScaler())\n",
    "])\n",
    "\n",
    "# One-hot encode categorical features and scale numerical features\n",
    "preprocessor = ColumnTransformer([\n",
    "    ('num', num_transformer, ['trip_distance']),\n",
    "    ('cat', cat_transformer, ['passenger_count', 'PULocationID', 'payment_type', 'time_of_day', 'day_of_week', 'season']),\n",
    "])\n",
    "\n",
    "# Create linear regression model pipeline\n",
    "logreg_model = Pipeline([\n",
    "    ('preprocessor', preprocessor),\n",
    "    ('classifier', LogisticRegressionCV(Cs=10, cv=5, scoring='accuracy', max_iter=1000, random_state=42))\n",
    "])\n",
    "\n",
    "knn_model = Pipeline([\n",
    "    ('preprocessor', preprocessor),\n",
    "    ('classifier', KNeighborsClassifier())\n",
    "])\n",
    "\n",
    "tree_model = Pipeline([\n",
    "    ('preprocessor', preprocessor),\n",
    "    ('classifier', RandomForestClassifier(n_estimators=1))\n",
    "])"
   ]
  },
  {
   "attachments": {},
   "cell_type": "markdown",
   "metadata": {},
   "source": [
    "Perform train-test split and train models"
   ]
  },
  {
   "cell_type": "code",
   "execution_count": 5,
   "metadata": {},
   "outputs": [],
   "source": [
    "X = df.drop('tip_amount', axis=1)\n",
    "\n",
    "# Train/test split\n",
    "X_train, X_test, y_train, y_test = train_test_split(X, y, test_size=0.2, random_state=42)"
   ]
  },
  {
   "cell_type": "code",
   "execution_count": 8,
   "metadata": {},
   "outputs": [
    {
     "name": "stdout",
     "output_type": "stream",
     "text": [
      "KNN model done training\n",
      "Decision Tree model done training\n"
     ]
    }
   ],
   "source": [
    "# logreg_model.fit(X_train, y_train)\n",
    "print(\"Logistic Regression model done training\")\n",
    "knn_model.fit(X_train, y_train)\n",
    "print(\"KNN model done training\")\n",
    "tree_model.fit(X_train, y_train)\n",
    "print(\"Decision Tree model done training\")"
   ]
  },
  {
   "attachments": {},
   "cell_type": "markdown",
   "metadata": {},
   "source": [
    "Load Pre-trained Models"
   ]
  },
  {
   "cell_type": "code",
   "execution_count": null,
   "metadata": {},
   "outputs": [],
   "source": [
    "with open(\"alex_rq1_model_logreg.pkl\", \"rb\") as file:\n",
    "    logreg_model = pickle.load(file)\n",
    "with open(\"alex_rq1_model_knn.pkl\", \"rb\") as file:\n",
    "    knn_model = pickle.load(file)\n",
    "with open(\"alex_rq1_model_tree.pkl\", \"rb\") as file:\n",
    "    tree_model = pickle.load(file)"
   ]
  },
  {
   "attachments": {},
   "cell_type": "markdown",
   "metadata": {},
   "source": [
    "Evaluate model"
   ]
  },
  {
   "cell_type": "code",
   "execution_count": 9,
   "metadata": {},
   "outputs": [],
   "source": [
    "def eval(y_pred, y_test):\n",
    "    acc = np.dot(y_pred, y_test) / y_test.size\n",
    "    confmat = confusion_matrix(y_test, y_pred)\n",
    "    tn, fp, fn, tp = np.ravel(confmat)\n",
    "    acc = (tp + tn) / y_test.size\n",
    "    precision = tp / (tp + fp)\n",
    "    recall = tp / (tp + fn) \n",
    "\n",
    "    print(f\"Accuracy: {acc}\")\n",
    "    print(f\"Precision: {precision}\")\n",
    "    print(f\"Recall: {recall}\")\n",
    "    print(f\"Confusion matrix:\\n{confmat}\")\n",
    "\n",
    "    # Plot Confusion Matrix\n",
    "    class_labels = [\"No Tip\", \"Tip\"]\n",
    "    ax = sns.heatmap(confmat / np.sum(confmat), annot=True, fmt='.2%', cmap='Blues', xticklabels=class_labels, yticklabels=class_labels)\n",
    "\n",
    "    ax.xaxis.tick_top()\n",
    "    ax.tick_params(top=True, labeltop=True, bottom=False, labelbottom=False)\n",
    "\n",
    "    plt.xlabel(\"Predicted Label\")\n",
    "    plt.ylabel(\"True Label\")\n",
    "    plt.title(\"Confusion Matrix\")"
   ]
  },
  {
   "cell_type": "code",
   "execution_count": null,
   "metadata": {},
   "outputs": [],
   "source": [
    "eval(logreg_model.predict(X_test), y_test)"
   ]
  },
  {
   "cell_type": "code",
   "execution_count": 13,
   "metadata": {},
   "outputs": [],
   "source": [
    "eval(knn_model.predict(X_test), y_test)"
   ]
  },
  {
   "cell_type": "code",
   "execution_count": 10,
   "metadata": {},
   "outputs": [
    {
     "name": "stdout",
     "output_type": "stream",
     "text": [
      "Accuracy: 0.92223852096923\n",
      "Precision: 0.9415770348167708\n",
      "Recall: 0.9548983913617086\n",
      "Confusion matrix:\n",
      "[[ 998509  209280]\n",
      " [ 159307 3372873]]\n"
     ]
    },
    {
     "data": {
      "image/png": "[encoded data removed]",
      "text/plain": [
       "<Figure size 640x480 with 2 Axes>"
      ]
     },
     "metadata": {},
     "output_type": "display_data"
    }
   ],
   "source": [
    "eval(tree_model.predict(X_test), y_test)"
   ]
  },
  {
   "attachments": {},
   "cell_type": "markdown",
   "metadata": {},
   "source": [
    "Save the Models"
   ]
  },
  {
   "cell_type": "code",
   "execution_count": 12,
   "metadata": {},
   "outputs": [],
   "source": [
    "# with open(\"alex_rq1_model_logreg.pkl\", \"wb\") as file:\n",
    "#     pickle.dump(logreg_model, file)\n",
    "with open(\"alex_rq1_model_knn.pkl\", \"wb\") as file:\n",
    "    pickle.dump(knn_model, file)\n",
    "with open(\"alex_rq1_model_tree.pkl\", \"wb\") as file:\n",
    "    pickle.dump(tree_model, file)"
   ]
  }
 ],
 "metadata": {
  "kernelspec": {
   "display_name": "Python 3",
   "language": "python",
   "name": "python3"
  },
  "language_info": {
   "codemirror_mode": {
    "name": "ipython",
    "version": 3
   },
   "file_extension": ".py",
   "mimetype": "text/x-python",
   "name": "python",
   "nbconvert_exporter": "python",
   "pygments_lexer": "ipython3",
   "version": "3.12.6"
  },
  "orig_nbformat": 4,
  "vscode": {
   "interpreter": {
    "hash": "3fcbd7240ee8f908d933dc7f71e8c42a1a91163b70ede8dcff5146d4087436c7"
   }
  }
 },
 "nbformat": 4,
 "nbformat_minor": 2
}
