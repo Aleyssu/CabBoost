{
 "cells": [
  {
   "cell_type": "code",
   "execution_count": 1,
   "metadata": {},
   "outputs": [],
   "source": [
    "import pandas as pd\n",
    "from pathlib import Path\n",
    "\n",
    "data_folder = 'data'"
   ]
  },
  {
   "attachments": {},
   "cell_type": "markdown",
   "metadata": {},
   "source": [
    "Load all the data and append them into one dataframe\n",
    "Due to storage concerns, we will be sampling instead."
   ]
  },
  {
   "cell_type": "code",
   "execution_count": 2,
   "metadata": {},
   "outputs": [
    {
     "name": "stdout",
     "output_type": "stream",
     "text": [
      "data\\yellow_tripdata_2023-01.parquet has 3066766 entries - sampling 1000000 from them.\n",
      "data\\yellow_tripdata_2023-02.parquet has 2913955 entries - sampling 1000000 from them.\n",
      "data\\yellow_tripdata_2023-03.parquet has 3403766 entries - sampling 1000000 from them.\n",
      "data\\yellow_tripdata_2023-04.parquet has 3288250 entries - sampling 1000000 from them.\n",
      "data\\yellow_tripdata_2023-05.parquet has 3513649 entries - sampling 1000000 from them.\n",
      "data\\yellow_tripdata_2023-06.parquet has 3307234 entries - sampling 1000000 from them.\n",
      "data\\yellow_tripdata_2023-07.parquet has 2907108 entries - sampling 1000000 from them.\n",
      "data\\yellow_tripdata_2023-08.parquet has 2824209 entries - sampling 1000000 from them.\n",
      "data\\yellow_tripdata_2023-09.parquet has 2846722 entries - sampling 1000000 from them.\n",
      "data\\yellow_tripdata_2023-10.parquet has 3522285 entries - sampling 1000000 from them.\n",
      "data\\yellow_tripdata_2023-11.parquet has 3339715 entries - sampling 1000000 from them.\n",
      "data\\yellow_tripdata_2023-12.parquet has 3376567 entries - sampling 1000000 from them.\n",
      "data\\yellow_tripdata_2024-01.parquet has 2964624 entries - sampling 1000000 from them.\n",
      "data\\yellow_tripdata_2024-02.parquet has 3007526 entries - sampling 1000000 from them.\n",
      "data\\yellow_tripdata_2024-03.parquet has 3582628 entries - sampling 1000000 from them.\n",
      "data\\yellow_tripdata_2024-04.parquet has 3514289 entries - sampling 1000000 from them.\n",
      "data\\yellow_tripdata_2024-05.parquet has 3723833 entries - sampling 1000000 from them.\n",
      "data\\yellow_tripdata_2024-06.parquet has 3539193 entries - sampling 1000000 from them.\n",
      "data\\yellow_tripdata_2024-07.parquet has 3076903 entries - sampling 1000000 from them.\n",
      "data\\yellow_tripdata_2024-08.parquet has 2979183 entries - sampling 1000000 from them.\n",
      "data\\yellow_tripdata_2024-09.parquet has 3633030 entries - sampling 1000000 from them.\n",
      "data\\yellow_tripdata_2024-10.parquet has 3833771 entries - sampling 1000000 from them.\n",
      "data\\yellow_tripdata_2024-11.parquet has 3646369 entries - sampling 1000000 from them.\n"
     ]
    }
   ],
   "source": [
    "files = Path.glob(Path(data_folder), \"yellow_tripdata*\")\n",
    "num_sample = 1000000\n",
    "\n",
    "dfs = []\n",
    "for file in files:\n",
    "    temp = pd.read_parquet(file)\n",
    "    print(f\"{file} has {len(temp)} entries - sampling {num_sample} from them.\")\n",
    "    dfs.append(temp.sample(num_sample, random_state=42))\n",
    "\n",
    "df = pd.concat(dfs)"
   ]
  },
  {
   "cell_type": "code",
   "execution_count": 3,
   "metadata": {},
   "outputs": [
    {
     "name": "stdout",
     "output_type": "stream",
     "text": [
      "<class 'pandas.core.frame.DataFrame'>\n",
      "Index: 23000000 entries, 2790731 to 1057964\n",
      "Data columns (total 20 columns):\n",
      " #   Column                 Dtype         \n",
      "---  ------                 -----         \n",
      " 0   VendorID               int64         \n",
      " 1   tpep_pickup_datetime   datetime64[us]\n",
      " 2   tpep_dropoff_datetime  datetime64[us]\n",
      " 3   passenger_count        float64       \n",
      " 4   trip_distance          float64       \n",
      " 5   RatecodeID             float64       \n",
      " 6   store_and_fwd_flag     object        \n",
      " 7   PULocationID           int64         \n",
      " 8   DOLocationID           int64         \n",
      " 9   payment_type           int64         \n",
      " 10  fare_amount            float64       \n",
      " 11  extra                  float64       \n",
      " 12  mta_tax                float64       \n",
      " 13  tip_amount             float64       \n",
      " 14  tolls_amount           float64       \n",
      " 15  improvement_surcharge  float64       \n",
      " 16  total_amount           float64       \n",
      " 17  congestion_surcharge   float64       \n",
      " 18  airport_fee            float64       \n",
      " 19  Airport_fee            float64       \n",
      "dtypes: datetime64[us](2), float64(13), int64(4), object(1)\n",
      "memory usage: 3.6+ GB\n"
     ]
    }
   ],
   "source": [
    "df.info()"
   ]
  },
  {
   "attachments": {},
   "cell_type": "markdown",
   "metadata": {},
   "source": [
    "Save data into one parquet file"
   ]
  },
  {
   "cell_type": "code",
   "execution_count": 4,
   "metadata": {},
   "outputs": [],
   "source": [
    "df.to_parquet(\"tripdata_combined.parquet\")"
   ]
  },
  {
   "attachments": {},
   "cell_type": "markdown",
   "metadata": {},
   "source": [
    "Load data from parquet file"
   ]
  },
  {
   "cell_type": "code",
   "execution_count": 5,
   "metadata": {},
   "outputs": [
    {
     "name": "stdout",
     "output_type": "stream",
     "text": [
      "|         |   VendorID | tpep_pickup_datetime   | tpep_dropoff_datetime   |   passenger_count |   trip_distance |   RatecodeID | store_and_fwd_flag   |   PULocationID |   DOLocationID |   payment_type |   fare_amount |   extra |   mta_tax |   tip_amount |   tolls_amount |   improvement_surcharge |   total_amount |   congestion_surcharge |   airport_fee |   Airport_fee |\n",
      "|--------:|-----------:|:-----------------------|:------------------------|------------------:|----------------:|-------------:|:---------------------|---------------:|---------------:|---------------:|--------------:|--------:|----------:|-------------:|---------------:|------------------------:|---------------:|-----------------------:|--------------:|--------------:|\n",
      "| 2790731 |          2 | 2023-01-29 17:52:02    | 2023-01-29 17:56:43     |                 1 |            1.17 |            1 | N                    |            262 |             74 |              2 |           7.2 |     0   |       0.5 |         0    |              0 |                       1 |          11.2  |                    2.5 |             0 |           nan |\n",
      "|  666153 |          1 | 2023-01-08 15:57:24    | 2023-01-08 16:02:47     |                 1 |            0.9  |            1 | N                    |            229 |            237 |              2 |           6.5 |     2.5 |       0.5 |         0    |              0 |                       1 |          10.5  |                    2.5 |             0 |           nan |\n",
      "| 1985683 |          2 | 2023-01-21 19:38:01    | 2023-01-21 19:45:02     |                 1 |            0.95 |            1 | N                    |             45 |            261 |              1 |           7.9 |     0   |       0.5 |         2.38 |              0 |                       1 |          14.28 |                    2.5 |             0 |           nan |\n",
      "| 2154231 |          2 | 2023-01-23 16:07:31    | 2023-01-23 16:26:46     |                 5 |            0.88 |            1 | N                    |            237 |            141 |              1 |          16.3 |     2.5 |       0.5 |         1.5  |              0 |                       1 |          24.3  |                    2.5 |             0 |           nan |\n",
      "| 2493619 |          2 | 2023-01-26 21:21:08    | 2023-01-26 21:24:48     |                 2 |            1.03 |            1 | N                    |            229 |            140 |              1 |           6.5 |     1   |       0.5 |         2.3  |              0 |                       1 |          13.8  |                    2.5 |             0 |           nan |\n",
      "Shape of data (23000000, 20)\n"
     ]
    }
   ],
   "source": [
    "df = pd.read_parquet(\"tripdata_combined.parquet\")\n",
    "print(df.head().to_markdown())\n",
    "print(\"Shape of data\", df.shape)"
   ]
  }
 ],
 "metadata": {
  "kernelspec": {
   "display_name": ".venv",
   "language": "python",
   "name": "python3"
  },
  "language_info": {
   "codemirror_mode": {
    "name": "ipython",
    "version": 3
   },
   "file_extension": ".py",
   "mimetype": "text/x-python",
   "name": "python",
   "nbconvert_exporter": "python",
   "pygments_lexer": "ipython3",
   "version": "3.11.9"
  },
  "orig_nbformat": 4
 },
 "nbformat": 4,
 "nbformat_minor": 2
}
