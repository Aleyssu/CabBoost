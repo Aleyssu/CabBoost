{
 "cells": [
  {
   "cell_type": "code",
   "execution_count": null,
   "metadata": {},
   "outputs": [],
   "source": [
    "import pandas as pd\n",
    "from pathlib import Path\n",
    "import matplotlib.pyplot as plt\n",
    "import seaborn as sns\n",
    "import numpy as np\n",
    "\n",
    "data_folder = 'data'"
   ]
  },
  {
   "attachments": {},
   "cell_type": "markdown",
   "metadata": {},
   "source": [
    "Load all the data and append them into one dataframe\n",
    "Due to storage concerns, we will be sampling instead."
   ]
  },
  {
   "cell_type": "code",
   "execution_count": null,
   "metadata": {},
   "outputs": [],
   "source": [
    "files = Path.glob(Path(data_folder), \"yellow_tripdata*\")\n",
    "num_sample = 1000000\n",
    "\n",
    "dfs = []\n",
    "for file in files:\n",
    "    temp = pd.read_parquet(file)\n",
    "    print(f\"{file} has {len(temp)} entries - sampling {num_sample} from them.\")\n",
    "    dfs.append(temp.sample(num_sample, random_state=42))\n",
    "\n",
    "df = pd.concat(dfs)"
   ]
  },
  {
   "cell_type": "code",
   "execution_count": null,
   "metadata": {},
   "outputs": [],
   "source": [
    "df.info()"
   ]
  },
  {
   "attachments": {},
   "cell_type": "markdown",
   "metadata": {},
   "source": [
    "Data cleaning"
   ]
  },
  {
   "cell_type": "code",
   "execution_count": null,
   "metadata": {},
   "outputs": [],
   "source": [
    "# Remove entries where the total amount paid is <= 0 (refunds/cancelled rides)\n",
    "df = df[df['total_amount'] > 0]\n",
    "\n",
    "# Remove other entries with negative tips\n",
    "df = df[df['tip_amount'] >= 0]\n",
    "\n",
    "# Remove extreme outliers (tips above $100 and trip distances above 100 miles)\n",
    "df = df[df['tip_amount'] < 100]\n",
    "df = df[df['trip_distance'] < 100]"
   ]
  },
  {
   "attachments": {},
   "cell_type": "markdown",
   "metadata": {},
   "source": [
    "Get time of day, day of week, and season when the pickup occured"
   ]
  },
  {
   "cell_type": "code",
   "execution_count": null,
   "metadata": {},
   "outputs": [],
   "source": [
    "# Convert to datetime\n",
    "df['tpep_pickup_datetime'] = pd.to_datetime(df['tpep_pickup_datetime'])\n",
    "\n",
    "# Define time of day\n",
    "def get_time_of_day(hour):\n",
    "    if 5 <= hour < 11:\n",
    "        return \"Morning\"\n",
    "    elif 11 <= hour < 17:\n",
    "        return \"Noon/Afternoon\"\n",
    "    elif 17 <= hour < 23:\n",
    "        return \"Evening\"\n",
    "    else:\n",
    "        return \"Night\"\n",
    "\n",
    "df['time_of_day'] = df['tpep_pickup_datetime'].dt.hour.apply(get_time_of_day)\n",
    "\n",
    "# Get Day of Week\n",
    "df['day_of_week'] = df['tpep_pickup_datetime'].dt.day_name()\n",
    "\n",
    "# Define seasons\n",
    "def get_season(month):\n",
    "    if month in [12, 1, 2]:\n",
    "        return \"Winter\"\n",
    "    elif month in [3, 4, 5]:\n",
    "        return \"Spring\"\n",
    "    elif month in [6, 7, 8]:\n",
    "        return \"Summer\"\n",
    "    else:\n",
    "        return \"Fall\"\n",
    "\n",
    "df['season'] = df['tpep_pickup_datetime'].dt.month.apply(get_season)"
   ]
  },
  {
   "cell_type": "code",
   "execution_count": null,
   "metadata": {},
   "outputs": [],
   "source": [
    "df.head()"
   ]
  },
  {
   "attachments": {},
   "cell_type": "markdown",
   "metadata": {},
   "source": [
    "Save data into one parquet file"
   ]
  },
  {
   "cell_type": "code",
   "execution_count": null,
   "metadata": {},
   "outputs": [],
   "source": [
    "df.to_parquet(\"tripdata_combined.parquet\")"
   ]
  },
  {
   "attachments": {},
   "cell_type": "markdown",
   "metadata": {},
   "source": [
    "Load data from parquet file"
   ]
  },
  {
   "cell_type": "code",
   "execution_count": null,
   "metadata": {},
   "outputs": [],
   "source": [
    "df = pd.read_parquet(\"tripdata_combined.parquet\")\n",
    "print(df.head().to_markdown())\n",
    "print(\"Shape of data\", df.shape)"
   ]
  },
  {
   "attachments": {},
   "cell_type": "markdown",
   "metadata": {},
   "source": [
    "Data visualization"
   ]
  },
  {
   "cell_type": "code",
   "execution_count": null,
   "metadata": {},
   "outputs": [],
   "source": [
    "# Violin plots for tipping amount with respect to times (with outliers)\n",
    "plt.figure(figsize=(8, 5))\n",
    "sns.violinplot(x=\"time_of_day\", y='tip_amount', data=df, order=[\"Morning\", \"Noon/Afternoon\", \"Evening\", \"Night\"])\n",
    "plt.xlabel(\"Time of Day\")\n",
    "plt.ylabel(\"Tip amount ($)\")\n",
    "plt.title(\"Tip Amount Variation by Time of Day\")\n",
    "\n",
    "plt.figure(figsize=(8, 5))\n",
    "sns.violinplot(x=\"day_of_week\", y='tip_amount', data=df, order=[\"Monday\", \"Tuesday\", \"Wednesday\", \"Thursday\", \"Friday\", \"Saturday\", \"Sunday\"])\n",
    "plt.xlabel(\"Day of Week\")\n",
    "plt.ylabel(\"Tip amount ($)\")\n",
    "plt.title(\"Tip Amount Variation by Day of Week\")\n",
    "\n",
    "plt.figure(figsize=(8, 5))\n",
    "sns.violinplot(x=\"season\", y='tip_amount', data=df, order=[\"Winter\", \"Spring\", \"Summer\", \"Fall\"])\n",
    "plt.xlabel(\"Season\")\n",
    "plt.ylabel(\"Tip amount ($)\")\n",
    "plt.title(\"Tip Amount Variation by Season\")\n",
    "plt.show()"
   ]
  },
  {
   "cell_type": "code",
   "execution_count": null,
   "metadata": {},
   "outputs": [],
   "source": [
    "# Violin plots for tipping amount with respect to times (without outliers) (Caution: needs lots of RAM)\n",
    "\n",
    "temp = df[df['tip_amount'] < 6.51]  # Non-outlier entries\n",
    "\n",
    "plt.figure(figsize=(8, 5))\n",
    "sns.violinplot(x=\"time_of_day\", y='tip_amount', data=temp, order=[\"Morning\", \"Noon/Afternoon\", \"Evening\", \"Night\"])\n",
    "plt.xlabel(\"Time of Day\")\n",
    "plt.ylabel(\"Tip amount ($)\")\n",
    "plt.title(\"Tip Amount Variation by Time of Day\")\n",
    "\n",
    "plt.figure(figsize=(8, 5))\n",
    "sns.violinplot(x=\"day_of_week\", y='tip_amount', data=temp, order=[\"Monday\", \"Tuesday\", \"Wednesday\", \"Thursday\", \"Friday\", \"Saturday\", \"Sunday\"])\n",
    "plt.xlabel(\"Day of Week\")\n",
    "plt.ylabel(\"Tip amount ($)\")\n",
    "plt.title(\"Tip Amount Variation by Day of Week\")\n",
    "\n",
    "plt.figure(figsize=(8, 5))\n",
    "sns.violinplot(x=\"season\", y='tip_amount', data=temp, order=[\"Winter\", \"Spring\", \"Summer\", \"Fall\"])\n",
    "plt.title(\"Tip Amount Variation by Season\")\n",
    "plt.xlabel(\"Season\")\n",
    "plt.ylabel(\"Tip amount ($)\")\n",
    "plt.show()"
   ]
  },
  {
   "cell_type": "code",
   "execution_count": null,
   "metadata": {},
   "outputs": [],
   "source": [
    "# Violin plots for tip amounts for credit vs cash payments\n",
    "\n",
    "temp = df[np.logical_or(df['payment_type'] == 1, df['payment_type'] == 2)]  # Select entries paid in cash or credit\n",
    "\n",
    "plt.figure(figsize=(8, 5))\n",
    "sns.violinplot(x=temp['payment_type'].map({1: 'Credit Card', 2: 'Cash'}), y='tip_amount', data=temp)\n",
    "plt.xlabel(\"Payment Type\")\n",
    "plt.ylabel(\"Tip amount ($)\")\n",
    "plt.title(\"Tip Amount for Credit vs Cash\")\n",
    "\n",
    "temp = temp[temp['tip_amount'] < 6.51]  # Non-outlier entries\n",
    "plt.figure(figsize=(8, 5))\n",
    "sns.violinplot(x=temp['payment_type'].map({1: 'Credit Card', 2: 'Cash'}), y='tip_amount', data=temp)\n",
    "plt.xlabel(\"Payment Type\")\n",
    "plt.ylabel(\"Tip amount ($)\")\n",
    "plt.title(\"Tip Amount for Credit vs Cash (No outliers)\")\n",
    "plt.show()"
   ]
  },
  {
   "cell_type": "code",
   "execution_count": null,
   "metadata": {},
   "outputs": [],
   "source": [
    "df[df['payment_type'] == 1]['tip_amount'].describe()"
   ]
  },
  {
   "cell_type": "code",
   "execution_count": null,
   "metadata": {},
   "outputs": [],
   "source": [
    "df[df['payment_type'] == 2]['tip_amount'].describe()"
   ]
  },
  {
   "cell_type": "code",
   "execution_count": null,
   "metadata": {},
   "outputs": [],
   "source": [
    "df['tipped'] = (df['tip_amount'] > 0).astype(int)\n",
    "\n",
    "# Define distance bins\n",
    "bin_edges = np.linspace(df['trip_distance'].min(), df['trip_distance'].max(), 30)  # 30 bins\n",
    "df['distance_bin'] = pd.cut(df['trip_distance'], bins=bin_edges, include_lowest=True)\n",
    "\n",
    "# Compute percentage of people who tipped in each bin\n",
    "tip_percentage = df.groupby('distance_bin')['tipped'].mean() * 100\n",
    "bin_centers = [interval.mid for interval in tip_percentage.index]  # Get bin centers for plotting\n",
    "\n",
    "plt.figure(figsize=(8,5))\n",
    "plt.plot(bin_centers, tip_percentage, marker='o', linestyle='-', color='blue')\n",
    "\n",
    "plt.xlabel(\"Trip Distance\")\n",
    "plt.ylabel(\"Percentage of People Who Tipped (%)\")\n",
    "plt.title(\"Tipping Rate vs. Trip Distance\")\n",
    "plt.grid(True)\n",
    "plt.show()"
   ]
  },
  {
   "cell_type": "code",
   "execution_count": null,
   "metadata": {},
   "outputs": [],
   "source": [
    "df['trip_distance'].describe()"
   ]
  }
 ],
 "metadata": {
  "kernelspec": {
   "display_name": "Python 3",
   "language": "python",
   "name": "python3"
  },
  "language_info": {
   "codemirror_mode": {
    "name": "ipython",
    "version": 3
   },
   "file_extension": ".py",
   "mimetype": "text/x-python",
   "name": "python",
   "nbconvert_exporter": "python",
   "pygments_lexer": "ipython3",
   "version": "3.12.6 (tags/v3.12.6:a4a2d2b, Sep  6 2024, 20:11:23) [MSC v.1940 64 bit (AMD64)]"
  },
  "orig_nbformat": 4,
  "vscode": {
   "interpreter": {
    "hash": "3fcbd7240ee8f908d933dc7f71e8c42a1a91163b70ede8dcff5146d4087436c7"
   }
  }
 },
 "nbformat": 4,
 "nbformat_minor": 2
}
